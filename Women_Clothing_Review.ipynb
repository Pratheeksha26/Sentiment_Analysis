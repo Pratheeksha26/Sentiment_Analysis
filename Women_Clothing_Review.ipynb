{
  "cells": [
    {
      "cell_type": "code",
      "execution_count": null,
      "metadata": {
        "id": "n_5dhY7MM-Ul"
      },
      "outputs": [],
      "source": [
        "import pandas as pd\n",
        "import numpy as np\n",
        "import re\n",
        "import nltk\n",
        "from nltk.corpus import stopwords\n",
        "from sklearn.model_selection import train_test_split\n",
        "from sklearn.feature_extraction.text import TfidfVectorizer\n",
        "from sklearn.naive_bayes import MultinomialNB\n",
        "from sklearn.metrics import accuracy_score, classification_report\n",
        "from sklearn.svm import SVC\n",
        "from sklearn.ensemble import RandomForestClassifier, GradientBoostingClassifier\n",
        "from sklearn.linear_model import LogisticRegression\n",
        "from sklearn.neighbors import KNeighborsClassifier\n",
        "import matplotlib.pyplot as plt\n",
        "import seaborn as sns\n",
        "from sklearn.feature_extraction.text import CountVectorizer\n",
        "from sklearn.metrics import confusion_matrix"
      ]
    },
    {
      "cell_type": "code",
      "execution_count": null,
      "metadata": {
        "id": "43p0hxS8M-Uo",
        "outputId": "089fdf61-dce4-440e-f5a2-1ce0b4febf6d"
      },
      "outputs": [
        {
          "data": {
            "text/html": [
              "<div>\n",
              "<style scoped>\n",
              "    .dataframe tbody tr th:only-of-type {\n",
              "        vertical-align: middle;\n",
              "    }\n",
              "\n",
              "    .dataframe tbody tr th {\n",
              "        vertical-align: top;\n",
              "    }\n",
              "\n",
              "    .dataframe thead th {\n",
              "        text-align: right;\n",
              "    }\n",
              "</style>\n",
              "<table border=\"1\" class=\"dataframe\">\n",
              "  <thead>\n",
              "    <tr style=\"text-align: right;\">\n",
              "      <th></th>\n",
              "      <th>Age</th>\n",
              "      <th>Review Text</th>\n",
              "      <th>Rating</th>\n",
              "      <th>Positive Feedback Count</th>\n",
              "      <th>Division Name</th>\n",
              "      <th>Department Name</th>\n",
              "      <th>Class Name</th>\n",
              "    </tr>\n",
              "  </thead>\n",
              "  <tbody>\n",
              "    <tr>\n",
              "      <th>0</th>\n",
              "      <td>33</td>\n",
              "      <td>Absolutely wonderful - silky and sexy and comf...</td>\n",
              "      <td>4</td>\n",
              "      <td>0</td>\n",
              "      <td>Initmates</td>\n",
              "      <td>Intimate</td>\n",
              "      <td>Intimates</td>\n",
              "    </tr>\n",
              "    <tr>\n",
              "      <th>1</th>\n",
              "      <td>34</td>\n",
              "      <td>Love this dress!  it's sooo pretty.  i happene...</td>\n",
              "      <td>5</td>\n",
              "      <td>4</td>\n",
              "      <td>General</td>\n",
              "      <td>Dresses</td>\n",
              "      <td>Dresses</td>\n",
              "    </tr>\n",
              "    <tr>\n",
              "      <th>2</th>\n",
              "      <td>60</td>\n",
              "      <td>I had such high hopes for this dress and reall...</td>\n",
              "      <td>3</td>\n",
              "      <td>0</td>\n",
              "      <td>General</td>\n",
              "      <td>Dresses</td>\n",
              "      <td>Dresses</td>\n",
              "    </tr>\n",
              "    <tr>\n",
              "      <th>3</th>\n",
              "      <td>50</td>\n",
              "      <td>I love, love, love this jumpsuit. it's fun, fl...</td>\n",
              "      <td>5</td>\n",
              "      <td>0</td>\n",
              "      <td>General Petite</td>\n",
              "      <td>Bottoms</td>\n",
              "      <td>Pants</td>\n",
              "    </tr>\n",
              "    <tr>\n",
              "      <th>4</th>\n",
              "      <td>47</td>\n",
              "      <td>This shirt is very flattering to all due to th...</td>\n",
              "      <td>5</td>\n",
              "      <td>6</td>\n",
              "      <td>General</td>\n",
              "      <td>Tops</td>\n",
              "      <td>Blouses</td>\n",
              "    </tr>\n",
              "    <tr>\n",
              "      <th>...</th>\n",
              "      <td>...</td>\n",
              "      <td>...</td>\n",
              "      <td>...</td>\n",
              "      <td>...</td>\n",
              "      <td>...</td>\n",
              "      <td>...</td>\n",
              "      <td>...</td>\n",
              "    </tr>\n",
              "    <tr>\n",
              "      <th>23481</th>\n",
              "      <td>34</td>\n",
              "      <td>I was very happy to snag this dress at such a ...</td>\n",
              "      <td>5</td>\n",
              "      <td>0</td>\n",
              "      <td>General Petite</td>\n",
              "      <td>Dresses</td>\n",
              "      <td>Dresses</td>\n",
              "    </tr>\n",
              "    <tr>\n",
              "      <th>23482</th>\n",
              "      <td>48</td>\n",
              "      <td>It reminds me of maternity clothes. soft, stre...</td>\n",
              "      <td>3</td>\n",
              "      <td>0</td>\n",
              "      <td>General Petite</td>\n",
              "      <td>Tops</td>\n",
              "      <td>Knits</td>\n",
              "    </tr>\n",
              "    <tr>\n",
              "      <th>23483</th>\n",
              "      <td>31</td>\n",
              "      <td>This fit well, but the top was very see throug...</td>\n",
              "      <td>3</td>\n",
              "      <td>1</td>\n",
              "      <td>General Petite</td>\n",
              "      <td>Dresses</td>\n",
              "      <td>Dresses</td>\n",
              "    </tr>\n",
              "    <tr>\n",
              "      <th>23484</th>\n",
              "      <td>28</td>\n",
              "      <td>I bought this dress for a wedding i have this ...</td>\n",
              "      <td>3</td>\n",
              "      <td>2</td>\n",
              "      <td>General</td>\n",
              "      <td>Dresses</td>\n",
              "      <td>Dresses</td>\n",
              "    </tr>\n",
              "    <tr>\n",
              "      <th>23485</th>\n",
              "      <td>52</td>\n",
              "      <td>This dress in a lovely platinum is feminine an...</td>\n",
              "      <td>5</td>\n",
              "      <td>22</td>\n",
              "      <td>General Petite</td>\n",
              "      <td>Dresses</td>\n",
              "      <td>Dresses</td>\n",
              "    </tr>\n",
              "  </tbody>\n",
              "</table>\n",
              "<p>23486 rows × 7 columns</p>\n",
              "</div>"
            ],
            "text/plain": [
              "       Age                                        Review Text  Rating  \\\n",
              "0       33  Absolutely wonderful - silky and sexy and comf...       4   \n",
              "1       34  Love this dress!  it's sooo pretty.  i happene...       5   \n",
              "2       60  I had such high hopes for this dress and reall...       3   \n",
              "3       50  I love, love, love this jumpsuit. it's fun, fl...       5   \n",
              "4       47  This shirt is very flattering to all due to th...       5   \n",
              "...    ...                                                ...     ...   \n",
              "23481   34  I was very happy to snag this dress at such a ...       5   \n",
              "23482   48  It reminds me of maternity clothes. soft, stre...       3   \n",
              "23483   31  This fit well, but the top was very see throug...       3   \n",
              "23484   28  I bought this dress for a wedding i have this ...       3   \n",
              "23485   52  This dress in a lovely platinum is feminine an...       5   \n",
              "\n",
              "       Positive Feedback Count   Division Name Department Name Class Name  \n",
              "0                            0       Initmates        Intimate  Intimates  \n",
              "1                            4         General         Dresses    Dresses  \n",
              "2                            0         General         Dresses    Dresses  \n",
              "3                            0  General Petite         Bottoms      Pants  \n",
              "4                            6         General            Tops    Blouses  \n",
              "...                        ...             ...             ...        ...  \n",
              "23481                        0  General Petite         Dresses    Dresses  \n",
              "23482                        0  General Petite            Tops      Knits  \n",
              "23483                        1  General Petite         Dresses    Dresses  \n",
              "23484                        2         General         Dresses    Dresses  \n",
              "23485                       22  General Petite         Dresses    Dresses  \n",
              "\n",
              "[23486 rows x 7 columns]"
            ]
          },
          "execution_count": 2,
          "metadata": {},
          "output_type": "execute_result"
        }
      ],
      "source": [
        "# Import DataSet\n",
        "df = pd.read_csv('d:/HP/Downloads/Womens Clothing E-Commerce Reviews.csv')\n",
        "df = df.drop(columns=['Title','Unnamed: 0','Clothing ID','Recommended IND'])\n",
        "\n",
        "df"
      ]
    },
    {
      "cell_type": "code",
      "execution_count": null,
      "metadata": {
        "id": "Kxv6eyDhM-Uo",
        "outputId": "93857332-0e19-4d47-a464-a67048018bf2"
      },
      "outputs": [
        {
          "data": {
            "image/png": "[encoded data removed]",
            "text/plain": [
              "<Figure size 1000x500 with 1 Axes>"
            ]
          },
          "metadata": {},
          "output_type": "display_data"
        },
        {
          "data": {
            "image/png": "[encoded data removed]",
            "text/plain": [
              "<Figure size 1000x500 with 1 Axes>"
            ]
          },
          "metadata": {},
          "output_type": "display_data"
        }
      ],
      "source": [
        "# Visualizations\n",
        "plt.figure(figsize=(10, 5))\n",
        "df.groupby('Department Name').size().plot(kind='barh', color=sns.color_palette('Dark2'))\n",
        "plt.gca().spines[['top', 'right']].set_visible(False)\n",
        "plt.title('Number of Reviews by Department Name')\n",
        "plt.show()\n",
        "\n",
        "plt.figure(figsize=(10, 5))\n",
        "df.groupby('Division Name').size().plot(kind='barh', color=sns.color_palette('Dark2'))\n",
        "plt.gca().spines[['top', 'right']].set_visible(False)\n",
        "plt.title('Number of Reviews by Division Name')\n",
        "plt.show()\n"
      ]
    },
    {
      "cell_type": "code",
      "execution_count": null,
      "metadata": {
        "id": "0Q0qTou3M-Up",
        "outputId": "6fcfae4c-ed1f-47e8-bdd9-528f42965d12"
      },
      "outputs": [
        {
          "name": "stdout",
          "output_type": "stream",
          "text": [
            "<class 'pandas.core.frame.DataFrame'>\n",
            "RangeIndex: 23486 entries, 0 to 23485\n",
            "Data columns (total 7 columns):\n",
            " #   Column                   Non-Null Count  Dtype \n",
            "---  ------                   --------------  ----- \n",
            " 0   Age                      23486 non-null  int64 \n",
            " 1   Review Text              22641 non-null  object\n",
            " 2   Rating                   23486 non-null  int64 \n",
            " 3   Positive Feedback Count  23486 non-null  int64 \n",
            " 4   Division Name            23472 non-null  object\n",
            " 5   Department Name          23472 non-null  object\n",
            " 6   Class Name               23472 non-null  object\n",
            "dtypes: int64(3), object(4)\n",
            "memory usage: 1.3+ MB\n",
            "None\n",
            "(23486, 7)\n"
          ]
        }
      ],
      "source": [
        "# Data Info and Shape\n",
        "print(df.info())\n",
        "print(df.shape)\n"
      ]
    },
    {
      "cell_type": "code",
      "execution_count": null,
      "metadata": {
        "id": "cwpixRX4M-Up",
        "outputId": "50075798-dddd-475a-f3ff-32977088dece"
      },
      "outputs": [
        {
          "name": "stdout",
          "output_type": "stream",
          "text": [
            "Age                        0\n",
            "Review Text                0\n",
            "Rating                     0\n",
            "Positive Feedback Count    0\n",
            "Division Name              0\n",
            "Department Name            0\n",
            "Class Name                 0\n",
            "dtype: int64\n"
          ]
        },
        {
          "name": "stderr",
          "output_type": "stream",
          "text": [
            "C:\\Users\\HP\\AppData\\Local\\Temp\\ipykernel_4992\\351861959.py:2: FutureWarning: A value is trying to be set on a copy of a DataFrame or Series through chained assignment using an inplace method.\n",
            "The behavior will change in pandas 3.0. This inplace method will never work because the intermediate object on which we are setting values always behaves as a copy.\n",
            "\n",
            "For example, when doing 'df[col].method(value, inplace=True)', try using 'df.method({col: value}, inplace=True)' or df[col] = df[col].method(value) instead, to perform the operation inplace on the original object.\n",
            "\n",
            "\n",
            "  df['Review Text'].replace(\"\", np.nan, inplace=True)\n",
            "C:\\Users\\HP\\AppData\\Local\\Temp\\ipykernel_4992\\351861959.py:3: FutureWarning: A value is trying to be set on a copy of a DataFrame or Series through chained assignment using an inplace method.\n",
            "The behavior will change in pandas 3.0. This inplace method will never work because the intermediate object on which we are setting values always behaves as a copy.\n",
            "\n",
            "For example, when doing 'df[col].method(value, inplace=True)', try using 'df.method({col: value}, inplace=True)' or df[col] = df[col].method(value) instead, to perform the operation inplace on the original object.\n",
            "\n",
            "\n",
            "  df['Review Text'].fillna(\"No Review\", inplace=True)\n"
          ]
        }
      ],
      "source": [
        "# Handle Missing Values\n",
        "df['Review Text'].replace(\"\", np.nan, inplace=True)\n",
        "df['Review Text'].fillna(\"No Review\", inplace=True)\n",
        "df.dropna(axis=0, inplace=True)\n",
        "print(df.isna().sum())\n"
      ]
    },
    {
      "cell_type": "code",
      "execution_count": null,
      "metadata": {
        "id": "2bmlkuXfM-Up",
        "outputId": "07eeed8e-72dd-4e41-cac9-81c27244aa2e"
      },
      "outputs": [
        {
          "name": "stdout",
          "output_type": "stream",
          "text": [
            "Rating\n",
            "5    13117\n",
            "4     5077\n",
            "3     2871\n",
            "2     1565\n",
            "1      842\n",
            "Name: count, dtype: int64\n"
          ]
        }
      ],
      "source": [
        "# Define Target (y) and Feature (X)\n",
        "X = df[['Review Text','Positive Feedback Count']]\n",
        "y = df['Rating']\n",
        "print(df['Rating'].value_counts())\n"
      ]
    },
    {
      "cell_type": "code",
      "execution_count": null,
      "metadata": {
        "id": "GN5EkPM2M-Uq"
      },
      "outputs": [],
      "source": [
        "# Recategorize Ratings as Poor (0) and Good (1)\n",
        "df.replace({'Rating': {1: 0, 2: 0, 3: 1, 4: 1, 5: 1}}, inplace=True)\n",
        "y = df['Rating']\n"
      ]
    },
    {
      "cell_type": "code",
      "execution_count": null,
      "metadata": {
        "id": "w_EQrkdCM-Uq",
        "outputId": "93d3e4cc-047b-467f-e3cf-91a4bf02a93f"
      },
      "outputs": [
        {
          "name": "stdout",
          "output_type": "stream",
          "text": [
            "(16430, 2) (7042, 2) (16430,) (7042,)\n"
          ]
        }
      ],
      "source": [
        "# Train Test Split (After Recategorizing)\n",
        "X_train, X_test, y_train, y_test = train_test_split(X, y, stratify=y,train_size=0.7, random_state=42529)\n",
        "print(X_train.shape, X_test.shape, y_train.shape, y_test.shape)\n"
      ]
    },
    {
      "cell_type": "code",
      "execution_count": null,
      "metadata": {
        "id": "OvuQH3nbM-Uq",
        "outputId": "8c31d2f6-544b-4427-bdaa-b4ea71a6902d"
      },
      "outputs": [
        {
          "name": "stdout",
          "output_type": "stream",
          "text": [
            "Naive Bayes Accuracy: 0.8974723090031241\n",
            "Naive Bayes Classification Report:\n",
            "              precision    recall  f1-score   support\n",
            "\n",
            "           0       1.00      0.00      0.00       722\n",
            "           1       0.90      1.00      0.95      6320\n",
            "\n",
            "    accuracy                           0.90      7042\n",
            "   macro avg       0.95      0.50      0.47      7042\n",
            "weighted avg       0.91      0.90      0.85      7042\n",
            "\n",
            "Random Forest Accuracy: 0.8987503550127804\n",
            "Random Forest Classification Report:\n",
            "              precision    recall  f1-score   support\n",
            "\n",
            "           0       0.85      0.02      0.03       722\n",
            "           1       0.90      1.00      0.95      6320\n",
            "\n",
            "    accuracy                           0.90      7042\n",
            "   macro avg       0.87      0.51      0.49      7042\n",
            "weighted avg       0.89      0.90      0.85      7042\n",
            "\n",
            "Logistic Regression Accuracy: 0.9089747230900312\n",
            "Logistic Regression Classification Report:\n",
            "              precision    recall  f1-score   support\n",
            "\n",
            "           0       0.67      0.22      0.33       722\n",
            "           1       0.92      0.99      0.95      6320\n",
            "\n",
            "    accuracy                           0.91      7042\n",
            "   macro avg       0.79      0.60      0.64      7042\n",
            "weighted avg       0.89      0.91      0.89      7042\n",
            "\n",
            "K-Nearest Neighbors Accuracy: 0.8957682476569157\n",
            "K-Nearest Neighbors Classification Report:\n",
            "              precision    recall  f1-score   support\n",
            "\n",
            "           0       0.45      0.07      0.12       722\n",
            "           1       0.90      0.99      0.94      6320\n",
            "\n",
            "    accuracy                           0.90      7042\n",
            "   macro avg       0.68      0.53      0.53      7042\n",
            "weighted avg       0.86      0.90      0.86      7042\n",
            "\n"
          ]
        }
      ],
      "source": [
        "# Vectorize the text data using TF-IDF\n",
        "vectorizer = TfidfVectorizer()\n",
        "X_train_vec = vectorizer.fit_transform(X_train['Review Text'])\n",
        "X_test_vec = vectorizer.transform(X_test['Review Text'])\n",
        "\n",
        "# Combine TF-IDF features with numerical features\n",
        "X_train_combined = np.hstack((X_train_vec.toarray(), X_train[['Positive Feedback Count']].values))\n",
        "X_test_combined = np.hstack((X_test_vec.toarray(), X_test[['Positive Feedback Count']].values))\n",
        "\n",
        "# Train and evaluate different models\n",
        "models = {\n",
        "    'Naive Bayes': MultinomialNB(),\n",
        "    'Random Forest': RandomForestClassifier(),\n",
        "    'Logistic Regression': LogisticRegression(max_iter=1000),\n",
        "    'K-Nearest Neighbors': KNeighborsClassifier()\n",
        "}\n",
        "\n",
        "for name, model in models.items():\n",
        "    model.fit(X_train_combined, y_train)\n",
        "    predictions = model.predict(X_test_combined)\n",
        "    accuracy = accuracy_score(y_test, predictions)\n",
        "    report = classification_report(y_test, predictions, zero_division=1)\n",
        "    print(f'{name} Accuracy: {accuracy}')\n",
        "    print(f'{name} Classification Report:\\n{report}')\n"
      ]
    },
    {
      "cell_type": "code",
      "execution_count": null,
      "metadata": {
        "id": "5Wy54tccM-Uq",
        "outputId": "16910e2d-12ec-4447-e231-8da164cf0685"
      },
      "outputs": [
        {
          "name": "stdout",
          "output_type": "stream",
          "text": [
            "[1 1 1 ... 1 1 1]\n",
            "21185    1\n",
            "19238    1\n",
            "20935    1\n",
            "20918    1\n",
            "4806     0\n",
            "        ..\n",
            "7579     1\n",
            "22765    1\n",
            "556      1\n",
            "1735     1\n",
            "18954    1\n",
            "Name: Rating, Length: 7042, dtype: int64\n",
            "                                             Review Text  \\\n",
            "21185  I vacillate betwixt saying this shirt runs lar...   \n",
            "19238  Wonderful colors and fit tts. love the style. ...   \n",
            "20935  Great skirt, can be dressy, work or casual, lo...   \n",
            "20918  Love the top, it fits wonderfully, and it's li...   \n",
            "4806   I like my dresses oversized but this one is ri...   \n",
            "...                                                  ...   \n",
            "7579   I love an all cotton shirt! feels great and ha...   \n",
            "22765  Such a gorgeous weight, cut and style! the but...   \n",
            "556    Love the detail and the way it hangs. i someti...   \n",
            "1735   At first, i thought this top was going to be s...   \n",
            "18954  I bought this vest to add more versatility to ...   \n",
            "\n",
            "       Positive Feedback Count  \n",
            "21185                        0  \n",
            "19238                        5  \n",
            "20935                        5  \n",
            "20918                        0  \n",
            "4806                         2  \n",
            "...                        ...  \n",
            "7579                         0  \n",
            "22765                        0  \n",
            "556                          0  \n",
            "1735                        12  \n",
            "18954                        1  \n",
            "\n",
            "[7042 rows x 2 columns]\n"
          ]
        }
      ],
      "source": [
        "print(predictions)\n",
        "print(y_test)\n",
        "print(X_test)"
      ]
    },
    {
      "cell_type": "code",
      "execution_count": null,
      "metadata": {
        "id": "E35vAnJMM-Uq",
        "outputId": "9ae019d6-267b-4fb4-a454-42886c400ef7"
      },
      "outputs": [
        {
          "name": "stdout",
          "output_type": "stream",
          "text": [
            "[[  52  670]\n",
            " [  64 6256]]\n"
          ]
        }
      ],
      "source": [
        "print(confusion_matrix(y_test, predictions))"
      ]
    },
    {
      "cell_type": "code",
      "execution_count": null,
      "metadata": {
        "id": "EzThOt_dM-Uq",
        "outputId": "2bfa00b8-2bf6-4b4d-9296-31e9c8469afd"
      },
      "outputs": [
        {
          "data": {
            "image/png": "[encoded data removed]",
            "text/plain": [
              "<Figure size 800x600 with 2 Axes>"
            ]
          },
          "metadata": {},
          "output_type": "display_data"
        }
      ],
      "source": [
        "# Confusion Matrix\n",
        "plt.figure(figsize=(8, 6))\n",
        "sns.heatmap(confusion_matrix(y_test, predictions), annot=True, fmt='d', cmap='YlGnBu', linewidths=.9)\n",
        "plt.title(f'{name} Confusion Matrix')\n",
        "plt.xlabel('Predicted')\n",
        "plt.ylabel('Actual')\n",
        "plt.show()"
      ]
    },
    {
      "cell_type": "code",
      "execution_count": null,
      "metadata": {
        "id": "NeYOnb6gM-Ur",
        "outputId": "a2c1d46c-b8c0-47f4-b6d8-033bbc0ebb3b"
      },
      "outputs": [
        {
          "name": "stdout",
          "output_type": "stream",
          "text": [
            "Predicted Rating: 1\n"
          ]
        }
      ],
      "source": [
        "# Predict the new data and give the predicted rating\n",
        "new_review_text = \"The dress is best\"\n",
        "new_review_feedback = 66\n",
        "new_review_combined = np.hstack((vectorizer.transform([new_review_text]).toarray(), [[new_review_feedback]]))\n",
        "\n",
        "# Assuming the last model trained is used for prediction\n",
        "predicted_rating = model.predict(new_review_combined)\n",
        "print(\"Predicted Rating:\", predicted_rating[0])"
      ]
    }
  ],
  "metadata": {
    "kernelspec": {
      "display_name": "Python 3",
      "language": "python",
      "name": "python3"
    },
    "language_info": {
      "codemirror_mode": {
        "name": "ipython",
        "version": 3
      },
      "file_extension": ".py",
      "mimetype": "text/x-python",
      "name": "python",
      "nbconvert_exporter": "python",
      "pygments_lexer": "ipython3",
      "version": "3.10.8"
    },
    "colab": {
      "provenance": []
    }
  },
  "nbformat": 4,
  "nbformat_minor": 0
}